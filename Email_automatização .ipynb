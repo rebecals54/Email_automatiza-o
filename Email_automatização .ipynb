{
 "cells": [
  {
   "cell_type": "code",
   "execution_count": 2,
   "id": "a2a3fb1b",
   "metadata": {},
   "outputs": [
    {
     "name": "stdout",
     "output_type": "stream",
     "text": [
      "Requirement already satisfied: pyautogui in c:\\users\\becca\\anaconda3\\lib\\site-packages (0.9.53)\n",
      "Requirement already satisfied: pygetwindow>=0.0.5 in c:\\users\\becca\\anaconda3\\lib\\site-packages (from pyautogui) (0.0.9)\n",
      "Requirement already satisfied: PyTweening>=1.0.1 in c:\\users\\becca\\anaconda3\\lib\\site-packages (from pyautogui) (1.0.4)\n",
      "Requirement already satisfied: pyscreeze>=0.1.21 in c:\\users\\becca\\anaconda3\\lib\\site-packages (from pyautogui) (0.1.28)\n",
      "Requirement already satisfied: pymsgbox in c:\\users\\becca\\anaconda3\\lib\\site-packages (from pyautogui) (1.0.9)\n",
      "Requirement already satisfied: mouseinfo in c:\\users\\becca\\anaconda3\\lib\\site-packages (from pyautogui) (0.1.3)\n",
      "Requirement already satisfied: pyrect in c:\\users\\becca\\anaconda3\\lib\\site-packages (from pygetwindow>=0.0.5->pyautogui) (0.2.0)\n",
      "Requirement already satisfied: pyperclip in c:\\users\\becca\\anaconda3\\lib\\site-packages (from mouseinfo->pyautogui) (1.8.2)\n"
     ]
    }
   ],
   "source": [
    "!pip install pyautogui"
   ]
  },
  {
   "cell_type": "code",
   "execution_count": 167,
   "id": "56d6733c",
   "metadata": {},
   "outputs": [],
   "source": [
    "import pyautogui\n",
    "import pyperclip\n",
    "import time \n",
    "\n",
    "pyautogui.pause = 1 ## Pausa sugerida para executar os programas em segundos.\n",
    "\n",
    "# passo 1:Entrar no sistema (no link)\n",
    "#pyautogui: automação de tarefas, análise de dados,etc. Biblioteca mais voltada para automação de tarefas.\n",
    "# atalhos:\n",
    "##pyautogui.press-pressionar botão\n",
    "##pyautogui.click- clicar com o mouse \n",
    "##pyautogui.write- escrever um texto\n",
    "##pyautogui.hotkey()\n",
    "\n",
    "pyautogui.hotkey(\"ctrl\",\"t\")\n",
    "pyperclip.copy(\"https://drive.google.com/drive/folders/149xknr9JvrlEnhNWO49zPcw0PW5icxga\")\n",
    "pyautogui.hotkey(\"ctrl\",\"v\")\n",
    "pyautogui.press(\"enter\")\n",
    "\n",
    "#site carregando\n",
    "time.sleep(5)\n",
    "\n",
    "#caso a aba do windows não esteja aberta:\n",
    "##pyautogui.press(\"win\")\n",
    "##pyautogui.write(\"chrome\")\n",
    "##pyautogui.press(\"enter\")\n",
    "\n",
    "# passo 2: Navegar no sistema encontrar a base de dados (entrar na pasta);\n",
    "pyautogui.click(x=1538, y=385, clicks=2)\n",
    "time.sleep(2)\n",
    "\n",
    "#passo 3:download da base  de dados \n",
    "pyautogui.click(x=435, y=362) #clicou no arquivo\n",
    "pyautogui.click(x=1658, y=234) #clicou nos 3 pontos \n",
    "pyautogui.click(x=1351, y=785) #clicou em download\n",
    "time.sleep(5)\n",
    "\n",
    "\n",
    "# passo 4: Calcular os indicadores (faturamento, quantidade de produtos);\n",
    "\n",
    "# passo 4: Entrar no email;\n",
    "# passo 5: Mandar um email para a diretoria com os indicadores.\n"
   ]
  },
  {
   "cell_type": "code",
   "execution_count": 164,
   "id": "4b5ab6c3",
   "metadata": {},
   "outputs": [
    {
     "data": {
      "text/plain": [
       "Point(x=605, y=405)"
      ]
     },
     "execution_count": 164,
     "metadata": {},
     "output_type": "execute_result"
    }
   ],
   "source": [
    "time.sleep(10)\n",
    "pyautogui.position()\n"
   ]
  },
  {
   "cell_type": "code",
   "execution_count": null,
   "id": "1ca500d7",
   "metadata": {},
   "outputs": [],
   "source": []
  },
  {
   "cell_type": "code",
   "execution_count": null,
   "id": "6fac71ea",
   "metadata": {},
   "outputs": [],
   "source": []
  },
  {
   "cell_type": "code",
   "execution_count": null,
   "id": "b4e15f70",
   "metadata": {},
   "outputs": [],
   "source": []
  }
 ],
 "metadata": {
  "kernelspec": {
   "display_name": "Python 3 (ipykernel)",
   "language": "python",
   "name": "python3"
  },
  "language_info": {
   "codemirror_mode": {
    "name": "ipython",
    "version": 3
   },
   "file_extension": ".py",
   "mimetype": "text/x-python",
   "name": "python",
   "nbconvert_exporter": "python",
   "pygments_lexer": "ipython3",
   "version": "3.9.12"
  }
 },
 "nbformat": 4,
 "nbformat_minor": 5
}
